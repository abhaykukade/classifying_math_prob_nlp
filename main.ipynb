{
 "cells": [
  {
   "cell_type": "markdown",
   "id": "bcdffe0b",
   "metadata": {},
   "source": [
    "# APIs"
   ]
  },
  {
   "cell_type": "code",
   "execution_count": 75,
   "id": "ed65d0a7",
   "metadata": {},
   "outputs": [],
   "source": [
    "import numpy as np\n",
    "import pandas as pd\n",
    "import seaborn as sns\n",
    "import matplotlib.pyplot as plt\n",
    "import spacy\n",
    "from sklearn.model_selection import train_test_split, GridSearchCV, StratifiedKFold\n",
    "from sklearn.feature_extraction.text import CountVectorizer\n",
    "from sklearn.linear_model import LogisticRegression\n",
    "from sklearn.naive_bayes import MultinomialNB\n",
    "from sklearn.pipeline import make_pipeline, Pipeline"
   ]
  },
  {
   "cell_type": "markdown",
   "id": "7ac1e5f4",
   "metadata": {},
   "source": [
    "# Setup Data"
   ]
  },
  {
   "cell_type": "markdown",
   "id": "7279d36d",
   "metadata": {},
   "source": [
    "import training data from .csv file"
   ]
  },
  {
   "cell_type": "code",
   "execution_count": 4,
   "id": "5df7beba",
   "metadata": {},
   "outputs": [
    {
     "data": {
      "text/plain": [
       "(10189, 2)"
      ]
     },
     "execution_count": 4,
     "metadata": {},
     "output_type": "execute_result"
    }
   ],
   "source": [
    "data = pd.read_csv('data/train.csv')\n",
    "data.shape"
   ]
  },
  {
   "cell_type": "markdown",
   "id": "266399a1",
   "metadata": {},
   "source": [
    "import test data - problems for which the category is to be predicted"
   ]
  },
  {
   "cell_type": "code",
   "execution_count": 5,
   "id": "0bba4138",
   "metadata": {},
   "outputs": [
    {
     "data": {
      "text/html": [
       "<div>\n",
       "<style scoped>\n",
       "    .dataframe tbody tr th:only-of-type {\n",
       "        vertical-align: middle;\n",
       "    }\n",
       "\n",
       "    .dataframe tbody tr th {\n",
       "        vertical-align: top;\n",
       "    }\n",
       "\n",
       "    .dataframe thead th {\n",
       "        text-align: right;\n",
       "    }\n",
       "</style>\n",
       "<table border=\"1\" class=\"dataframe\">\n",
       "  <thead>\n",
       "    <tr style=\"text-align: right;\">\n",
       "      <th></th>\n",
       "      <th>id</th>\n",
       "      <th>Question</th>\n",
       "    </tr>\n",
       "  </thead>\n",
       "  <tbody>\n",
       "    <tr>\n",
       "      <th>0</th>\n",
       "      <td>0</td>\n",
       "      <td>b'Solve 0 = -i - 91*i - 1598*i - 64220 for i.\\n'</td>\n",
       "    </tr>\n",
       "    <tr>\n",
       "      <th>1</th>\n",
       "      <td>1</td>\n",
       "      <td>Galperin G.A.\\n\\nA natural number $N$ is 999.....</td>\n",
       "    </tr>\n",
       "    <tr>\n",
       "      <th>2</th>\n",
       "      <td>2</td>\n",
       "      <td>Example 7 Calculate $\\frac{1}{2 \\sqrt{1}+\\sqrt...</td>\n",
       "    </tr>\n",
       "    <tr>\n",
       "      <th>3</th>\n",
       "      <td>3</td>\n",
       "      <td>If $A$, $B$, and $C$ represent three distinct ...</td>\n",
       "    </tr>\n",
       "    <tr>\n",
       "      <th>4</th>\n",
       "      <td>4</td>\n",
       "      <td>2. Calculate $1+12+123+1234+12345+123456+12345...</td>\n",
       "    </tr>\n",
       "  </tbody>\n",
       "</table>\n",
       "</div>"
      ],
      "text/plain": [
       "   id                                           Question\n",
       "0   0   b'Solve 0 = -i - 91*i - 1598*i - 64220 for i.\\n'\n",
       "1   1  Galperin G.A.\\n\\nA natural number $N$ is 999.....\n",
       "2   2  Example 7 Calculate $\\frac{1}{2 \\sqrt{1}+\\sqrt...\n",
       "3   3  If $A$, $B$, and $C$ represent three distinct ...\n",
       "4   4  2. Calculate $1+12+123+1234+12345+123456+12345..."
      ]
     },
     "execution_count": 5,
     "metadata": {},
     "output_type": "execute_result"
    }
   ],
   "source": [
    "test_data = pd.read_csv('data/test.csv')\n",
    "test_data.head()"
   ]
  },
  {
   "cell_type": "code",
   "execution_count": 6,
   "id": "0fb75123",
   "metadata": {},
   "outputs": [
    {
     "data": {
      "text/plain": [
       "(3044, 2)"
      ]
     },
     "execution_count": 6,
     "metadata": {},
     "output_type": "execute_result"
    }
   ],
   "source": [
    "test_data.shape"
   ]
  },
  {
   "cell_type": "markdown",
   "id": "8066c1aa",
   "metadata": {},
   "source": [
    "# Training data exploration"
   ]
  },
  {
   "cell_type": "code",
   "execution_count": 7,
   "id": "e840d9a4",
   "metadata": {},
   "outputs": [
    {
     "data": {
      "text/html": [
       "<div>\n",
       "<style scoped>\n",
       "    .dataframe tbody tr th:only-of-type {\n",
       "        vertical-align: middle;\n",
       "    }\n",
       "\n",
       "    .dataframe tbody tr th {\n",
       "        vertical-align: top;\n",
       "    }\n",
       "\n",
       "    .dataframe thead th {\n",
       "        text-align: right;\n",
       "    }\n",
       "</style>\n",
       "<table border=\"1\" class=\"dataframe\">\n",
       "  <thead>\n",
       "    <tr style=\"text-align: right;\">\n",
       "      <th></th>\n",
       "      <th>Question</th>\n",
       "      <th>label</th>\n",
       "    </tr>\n",
       "  </thead>\n",
       "  <tbody>\n",
       "    <tr>\n",
       "      <th>0</th>\n",
       "      <td>A solitaire game is played as follows.  Six di...</td>\n",
       "      <td>3</td>\n",
       "    </tr>\n",
       "    <tr>\n",
       "      <th>1</th>\n",
       "      <td>2. The school table tennis championship was he...</td>\n",
       "      <td>5</td>\n",
       "    </tr>\n",
       "    <tr>\n",
       "      <th>2</th>\n",
       "      <td>Given that $x, y,$ and $z$ are real numbers th...</td>\n",
       "      <td>0</td>\n",
       "    </tr>\n",
       "    <tr>\n",
       "      <th>3</th>\n",
       "      <td>$25 \\cdot 22$ Given three distinct points $P\\l...</td>\n",
       "      <td>1</td>\n",
       "    </tr>\n",
       "    <tr>\n",
       "      <th>4</th>\n",
       "      <td>I am thinking of a five-digit number composed ...</td>\n",
       "      <td>5</td>\n",
       "    </tr>\n",
       "  </tbody>\n",
       "</table>\n",
       "</div>"
      ],
      "text/plain": [
       "                                            Question  label\n",
       "0  A solitaire game is played as follows.  Six di...      3\n",
       "1  2. The school table tennis championship was he...      5\n",
       "2  Given that $x, y,$ and $z$ are real numbers th...      0\n",
       "3  $25 \\cdot 22$ Given three distinct points $P\\l...      1\n",
       "4  I am thinking of a five-digit number composed ...      5"
      ]
     },
     "execution_count": 7,
     "metadata": {},
     "output_type": "execute_result"
    }
   ],
   "source": [
    "data.head()"
   ]
  },
  {
   "cell_type": "markdown",
   "id": "951a047b",
   "metadata": {},
   "source": [
    "check for missing values"
   ]
  },
  {
   "cell_type": "code",
   "execution_count": 8,
   "id": "d6682561",
   "metadata": {},
   "outputs": [
    {
     "name": "stdout",
     "output_type": "stream",
     "text": [
      "<class 'pandas.core.frame.DataFrame'>\n",
      "RangeIndex: 10189 entries, 0 to 10188\n",
      "Data columns (total 2 columns):\n",
      " #   Column    Non-Null Count  Dtype \n",
      "---  ------    --------------  ----- \n",
      " 0   Question  10189 non-null  object\n",
      " 1   label     10189 non-null  int64 \n",
      "dtypes: int64(1), object(1)\n",
      "memory usage: 159.3+ KB\n"
     ]
    }
   ],
   "source": [
    "data.info()"
   ]
  },
  {
   "cell_type": "markdown",
   "id": "6b69f3c6",
   "metadata": {},
   "source": [
    "Total samples for each class label"
   ]
  },
  {
   "cell_type": "code",
   "execution_count": 9,
   "id": "db1a423c",
   "metadata": {},
   "outputs": [
    {
     "data": {
      "text/plain": [
       "array([2618, 2439, 1039,  368, 1712, 1827,  100,   86])"
      ]
     },
     "execution_count": 9,
     "metadata": {},
     "output_type": "execute_result"
    }
   ],
   "source": [
    "np.bincount(data.label)"
   ]
  },
  {
   "cell_type": "markdown",
   "id": "11c3c7e0",
   "metadata": {},
   "source": [
    "Classes 3, 6, and 7 have comparatively very low representation."
   ]
  },
  {
   "cell_type": "code",
   "execution_count": 29,
   "id": "bdec9889",
   "metadata": {},
   "outputs": [],
   "source": [
    "category = ['Algebra', 'Geometry', 'Calculus', 'Statistics', 'Number_theory', 'Combinatorics', 'Linear_Algebra', 'Abstract_Algebra']"
   ]
  },
  {
   "cell_type": "markdown",
   "id": "7e4f2194",
   "metadata": {},
   "source": [
    "## Creating train and test sets"
   ]
  },
  {
   "cell_type": "code",
   "execution_count": 21,
   "id": "bdcb5d90",
   "metadata": {},
   "outputs": [],
   "source": [
    "text_train, text_test, y_train, y_test = train_test_split(np.array(data['Question']), np.array(data['label']), \n",
    "                                                          random_state=0, stratify=data['label'])"
   ]
  },
  {
   "cell_type": "markdown",
   "id": "6c469b10",
   "metadata": {},
   "source": [
    "# Bag of Words"
   ]
  },
  {
   "cell_type": "code",
   "execution_count": null,
   "id": "4a7cfbaf",
   "metadata": {},
   "outputs": [
    {
     "name": "stdout",
     "output_type": "stream",
     "text": [
      "X_train: <Compressed Sparse Row sparse matrix of dtype 'int64'\n",
      "\twith 189663 stored elements and shape (7641, 11213)>\n"
     ]
    }
   ],
   "source": [
    "vect = CountVectorizer().fit(text_train)\n",
    "X_train = vect.transform(text_train)\n",
    "print(f'X_train: {repr(X_train)}')"
   ]
  },
  {
   "cell_type": "markdown",
   "id": "f1db14da",
   "metadata": {},
   "source": [
    "Analyzing tokens"
   ]
  },
  {
   "cell_type": "code",
   "execution_count": 37,
   "id": "85b266a7",
   "metadata": {},
   "outputs": [
    {
     "name": "stdout",
     "output_type": "stream",
     "text": [
      "First 50 features:\n",
      "['00' '000' '00000000' '000001' '0001' '00010000' '001' '0013' '002'\n",
      " '00214' '0025' '0026' '0028' '003' '004' '005' '006' '007' '008' '009'\n",
      " '01' '0101' '010512' '011' '011011' '011016' '012' '0123432123432' '013'\n",
      " '014' '017' '018' '019' '0197' '02' '020' '020922' '024' '025' '026'\n",
      " '027' '028' '03' '030' '030511' '030521' '030922' '031' '033' '03375'\n",
      " '035' '036' '039' '04' '040' '040914' '041214' '041224' '044' '045' '046'\n",
      " '049' '05' '050' '050936' '051' '052' '053' '056' '058' '05in' '06'\n",
      " '060723' '061021' '061045' '062' '0629' '063' '067' '068' '06inch' '07'\n",
      " '070' '070614' '071241' '071243' '076' '077' '0784' '0793' '08' '081224'\n",
      " '081244' '082' '084' '085' '088' '09' '090734' '090812' '091212' '092'\n",
      " '093' '095' '097' '098' '0_' '0_7' '0th'\n",
      " '0uucogtryj4ymjphfsk3oqihrqfut7usgclcbgasyhq' '10' '100' '1000' '10000'\n",
      " '100000' '1000000' '1000000000' '10000x' '10001' '100010001' '10003'\n",
      " '1000th' '1000x' '1001' '1001_b' '1001x' '1002' '10032' '1004' '1005'\n",
      " '100613' '1007' '1008' '1009' '100911' '10094' '100_' '100a' '100h'\n",
      " '100m' '100r' '100th' '100x' '101' '1010' '10100' '10101' '101010' '1011'\n",
      " '101101' '1014' '1015' '10155' '101_' '102' '1020' '1021' '10214' '1022'\n",
      " '1023' '1024' '1025' '103' '1031' '1037' '104' '1041' '10471' '105'\n",
      " '1050' '10500' '105000' '10508' '10520' '1053' '1059' '105x' '106' '1063'\n",
      " '1065' '107' '1071' '10771' '1079' '107i' '108' '1080' '1088' '1089'\n",
      " '109' '1092' '1094' '1097' '1098' '1099' '10a' '10a_n' '10am' '10b' '10c']\n"
     ]
    }
   ],
   "source": [
    "feature_names = vect.get_feature_names_out()\n",
    "print(f'First 50 features:\\n{feature_names[:200]}')"
   ]
  },
  {
   "cell_type": "markdown",
   "id": "a368ead9",
   "metadata": {},
   "source": [
    "Since the dataset is of math problem statements, lot of tokens are just going to numbers or alphanumeric strings. Since these will be common across math problems, at first thought, they won't provide any value in differentiating between problem categories and should be excluded."
   ]
  },
  {
   "cell_type": "code",
   "execution_count": 40,
   "id": "1754d2c1",
   "metadata": {},
   "outputs": [
    {
     "name": "stdout",
     "output_type": "stream",
     "text": [
      "\n",
      "Every 25th feature:\n",
      "['00' '011016' '035' '062' '091212' '1001x' '1014' '1059' '10cm'\n",
      " '1111111111111111' '1153' '11y' '12199' '1238' '1275' '1300' '1350'\n",
      " '13970' '1434' '1481' '1510' '1565' '1616' '17005' '1792' '186' '1918'\n",
      " '1959' '198' '1997' '1尺' '2009x' '2020x'\n",
      " '2024_04_17_fd2d0ad36e2f3d54c0ceg' '2024_05_06_2befe970655743580344g'\n",
      " '2024_05_08_22585010b2534c7ab9ebg' '2025' '208' '211976' '221213'\n",
      " '231021' '23_b' '247' '2521' '260914' '273' '281012' '2925' '2bf' '2pq'\n",
      " '2y_2' '3032' '314' '325' '333x' '3452' '35th' '36th' '3808' '394' '3c'\n",
      " '4000' '40845' '421' '437' '4492' '4641' '481' '49560' '4l' '502' '51242'\n",
      " '53' '5490' '57' '5_b' '603' '630' '645' '66' '685' '6z' '725' '753'\n",
      " '784' '7x' '8192' '83x' '874' '8em' '9218' '955' '99' '9n' 'a8' 'a_7x'\n",
      " 'ab_0c_0' 'about' 'accompany' 'acquainted' 'adding' 'aec' 'again'\n",
      " 'aimeville' 'alexandru' 'alloy' 'alёna' 'an' 'angles' 'answered' 'apb'\n",
      " 'applies' 'arc' 'armies' 'articles' 'assembled' 'asterisk' 'attempt'\n",
      " 'automates' 'axial' 'b_6' 'badminton' 'ballots' 'base' 'bcd' 'beauty'\n",
      " 'beibei' 'bernd' 'bias' 'biljarska' 'bisects' 'blooming' 'body' 'borises'\n",
      " 'boy' 'breaks' 'brothers' 'buoy' 'bz' 'cafe' 'camo' 'capitalist'\n",
      " 'caroline' 'catching' 'cda' 'celine' 'ceremony' 'change' 'chatted'\n",
      " 'chewing' 'chooses' 'circle' 'citogroep' 'claudine' 'closed' 'coach'\n",
      " 'collections' 'combined' 'compete' 'composing' 'concyclic' 'conjecture'\n",
      " 'consonant' 'containing' 'convention' 'corey' 'cosine' 'counts' 'creases'\n",
      " 'cross' 'cumbersome' 'cx' 'd_i' 'danica' 'date' 'decelerates' 'decreased'\n",
      " 'deletes' 'density' 'descends' 'determined' 'dials' 'differs' 'dipper'\n",
      " 'disconnected' 'displaying' 'divide' 'dock' 'donut' 'downward'\n",
      " 'dreistellige' 'dudeney' 'dwarf' 'earliest' 'ec' 'egg' 'elected'\n",
      " 'ellipses' 'employees' 'engage' 'entries' 'equilateral' 'essential'\n",
      " 'evaporated' 'exactly' 'executes' 'expenses' 'extension' 'f_4'\n",
      " 'factorize' 'farm' 'feast' 'fetch' 'filldraw' 'fired' 'flight'\n",
      " 'fmgh2lx6go' 'footballs' 'formulas' 'frac1x' 'frequencies' 'ft' 'g1'\n",
      " 'gamma' 'gaussville' 'generated' 'germinate' 'giulio' 'gon' 'grandmother'\n",
      " 'grew' 'guaranteed' 'h_2' 'happen' 'hc' 'heights' 'hers' 'hippotigris'\n",
      " 'homer' 'hospital' 'hubbard' 'hypothesis' 'icosahedron' 'illuminated'\n",
      " 'implied' 'incorrect' 'indices' 'initial' 'instance' 'intenger'\n",
      " 'intersecting' 'investigate' 'isabella' 'its' 'jan' 'jerry' 'joint'\n",
      " 'julie' 'k_ia_i' 'kazan' 'kilometres' 'knave' 'kopeck' 'kuta' 'labels'\n",
      " 'laps' 'law' 'leading' 'legally' 'leq25' 'license' 'lim' 'list' 'load'\n",
      " 'log_8' 'looked' 'lowerparab' 'm_' 'mail' 'manages' 'marine' 'masalitin'\n",
      " 'matheknobelei' 'may' 'measuredangle' 'memory' 'method' 'midmoint'\n",
      " 'mindedly' 'miscellaneous' 'mlu' 'molecules' 'monthly' 'mouths'\n",
      " 'multiples' 'még' 'namely' 'nearest' 'neighbors' 'ni' 'nmid' 'noon'\n",
      " 'nothing' 'number' 'o_2' 'obtained' 'odbijanja' 'ol' 'omission'\n",
      " 'operating' 'oranges' 'original' 'outermost' 'owed' 'p_4' 'packed'\n",
      " 'palkino' 'parameter' 'participates' 'pastime' 'paws' 'pebble'\n",
      " 'pentagonal' 'perimeters' 'petra' 'phrase' 'pigs' 'pizizubka' 'players'\n",
      " 'poddlisky' 'pool' 'possibility' 'pqrs' 'predict' 'press' 'printed'\n",
      " 'processes' 'project' 'proposes' 'ptick' 'putanja' 'qasim' 'quality'\n",
      " 'quiz' 'racer' 'rainy' 'rates' 'reaching' 'recall' 'rectangle'\n",
      " 'refinancing' 'regularly' 'remembered' 'repayments' 'represents'\n",
      " 'resistor' 'retain' 'reviews' 'riding' 'roaring' 'room' 'routes'\n",
      " 'rudolph' 's_k' 'same' 'saving' 'schoolchildren' 'seat' 'seeing' 'semi'\n",
      " 'sequences' 'seventh' 'shaped' 'shifted' 'shorter' 'siblings' 'sim'\n",
      " 'sin7' 'sixes' 'sleepy' 'smartphone' 'soda' 'song' 'spade' 'speeds'\n",
      " 'spots' 'stacked' 'stared' 'steamboat' 'stones' 'strength' 'studies'\n",
      " 'subsequences' 'succeeding' 'sum' 'surfaces' 'swedish' 't0' 'taken'\n",
      " 'tanya' 'teacups' 'temperatures' 'tetrominos' 'themselves' 'thirteen'\n",
      " 'tianjin' 'time' 'toll' 'torus' 'toy' 'transfer' 'trapezoids'\n",
      " 'triangular' 'tristan' 'ttit' 'twice' 'udaljenost' 'und' 'units' 'unseen'\n",
      " 'uranium' 'ux' 'values' 'vary' 'versa' 'vietnam' 'vitya' 'votes' 'wages'\n",
      " 'warehouses' 'wears' 'were' 'whole' 'winnie' 'won' 'would' 'wxy' 'xb'\n",
      " 'xscale' 'y_i' 'yielding' 'yuri' 'zatvara' 'zoranel' 'кош' '保留了源文本的换行和格式'\n",
      " '已知' '為三角形' '表示不超过实数']\n"
     ]
    }
   ],
   "source": [
    "print(f'\\nEvery 25th feature:\\n{feature_names[::25]}')"
   ]
  },
  {
   "cell_type": "markdown",
   "id": "d0b3e569",
   "metadata": {},
   "source": [
    "From these, most tokens seem like subjects/nouns used to describe a problem statement.\n",
    "I can also see some tokens denoting shapes, measures, concepts which will be useful in identifying the category."
   ]
  },
  {
   "cell_type": "code",
   "execution_count": 42,
   "id": "7ab34f71",
   "metadata": {},
   "outputs": [
    {
     "name": "stdout",
     "output_type": "stream",
     "text": [
      "Last 250 features:\n",
      "['xz' 'xzcdqhggkfi' 'xzp0cepacei' 'y62' 'y_' 'y_0' 'y_1' 'y_2' 'y_3' 'y_4'\n",
      " 'y_5' 'y_a' 'y_i' 'y_k' 'y_n' 'y_p' 'y_s' 'yann' 'yaoyao' 'yaps' 'yard'\n",
      " 'yarn' 'yasmine' 'yatsenko' 'yaxis' 'yb' 'ybottom' 'year' 'years'\n",
      " 'yellow' 'yequals' 'yes' 'yesterday' 'yet' 'yf_y' 'yi' 'yield' 'yielding'\n",
      " 'yields' 'yingchun' 'yingying' 'ylimits' 'ymax' 'ymin' 'yndira' 'yolki'\n",
      " 'york' 'you' 'young' 'younger' 'youngest' 'your' 'yourself' 'youth'\n",
      " 'yscale' 'ystep' 'yt' 'ytop' 'yu' 'yuan' 'yugoslav' 'yuliawan' 'yuri'\n",
      " 'yw'\n",
      " 'yxr0ywnobwvudhmvoc8zl2iwzjnjmdaxnwewmtc1zgnjmtkwzmzlzmjlmgrlogrhyjk4nzczlnbuzw'\n",
      " 'yy' 'yz' 'z_' 'z_0' 'z_1' 'z_2' 'z_3' 'z_4' 'z_j' 'z_jz_k' 'z_k' 'z_n'\n",
      " 'za' 'zadaci' 'zadane' 'zadatak' 'zahl' 'zahlen' 'zahlenmäßig'\n",
      " 'zalakomár' 'zanfirica' 'započne' 'zatvara' 'završava' 'završi' 'zebra'\n",
      " 'zero' 'zeroes' 'zeros' 'zf' 'zhai' 'zhang' 'zhao' 'zhejiang' 'zhenhua'\n",
      " 'zhenping' 'zhenya' 'zhouf' 'zigzag' 'zinc' 'zmey' 'znayka' 'zo' 'zoe'\n",
      " 'zoka' 'zomr' 'zone' 'zoranel' 'zr' 'zrzinka' 'zs' 'zsspasii' 'zu' 'zw'\n",
      " 'zx' 'zy' 'zzzzzz' 'će' 'četiri' 'črt' 'šiljastokutan' 'šimünek'\n",
      " 'štístko' 'și' 'ștefan' 'гроза' 'жало' 'же' 'задача' 'зоология' 'из' 'ка'\n",
      " 'кош' 'кошка' 'латинском' 'ложа' 'на' 'осень' 'паста' 'примеров'\n",
      " 'рукописи' 'самса' 'собрания' 'той' 'ча' 'языке' '一began' '不包括兩個端點'\n",
      " '不包括邊界' '不是原文的一部分' '个运动项目' '中線是指連起三角形一個頂點及其對邊的中點的線段' '之間的一個因數'\n",
      " '乙两同学不能参加同一个项目' '他們被分成' '但请注意' '使得' '保留了源文本的换行和格式' '保留源文本的换行和格式'\n",
      " '保證能夠組成的隊伍數目的最大值是多少' '個系數除以' '內所有實根之和' '其中' '其中一個是平方數' '则满足上述要求的不同安排方案数为'\n",
      " '則兩個三角形六個內角中最大的一個' '剛好位於該兩條弦中間且與其平行的另一條弦的長度是多少' '力可拔山' '华罗庚金杯赛'\n",
      " '原文本中的数学问题已经用英文表述' '同班的一名男生和一名女生可組隊參加一項比賽' '名同学去参加' '和所選格點的線段上'\n",
      " '因此在最终输出时应去掉' '在區間' '在座標平面上' '如果您需要解题帮助' '学俱乐部' '安排' '将上面的文本翻译成英文' '尽心尽力'\n",
      " '山穷水尽' '已知' '已知实数' '已知每班均最少有男生和女生各' '平面上' '座標皆是整數的點稱爲' '数学俱乐部' '是多少' '時餘'\n",
      " '最后一句是解释说明' '有些三角形的所有頂點' '有偶數個格點的概率是多少' '某三角形其中兩條中線的長度為'\n",
      " '某圓中兩條互相平行的弦的長度分別為' '某校有男生和女生各' '格點' '每个项目都有人参加' '每人只参加一个项目' '每班人數相同'\n",
      " '求一個小於' '求兩數之差' '求方程' '求該三角形的最大可能面積' '求這樣的三角形的數目' '注意' '满足' '為三角形' '為單位'\n",
      " '為實數' '現於頂點爲' '現有兩個正整數' '用数字作答' '畍居' '的倍數' '的值' '的元数记为' '的升幕序展開時' '的整數'\n",
      " '的最大值' '的最大整数' '的最大整數' '的最小值' '的正整數' '的正方形內' '皆是滿足' '直接输出翻译结果' '翻译完成'\n",
      " '翻译结果如下' '而它們之間的距離為' '而每名學生只可隸屬一隊' '若兩數之和比它們之積小' '表示不超过实数' '表示不超過' '要求甲'\n",
      " '解方程' '请保留源文本的换行和格式' '请告知' '這裡' '那麼' '那麼連起' '隨意選一格點' 'ﬁfth' 'ﬁnished'\n",
      " 'ﬂip']\n"
     ]
    }
   ],
   "source": [
    "print(f'Last 250 features:\\n{feature_names[-250:]}')"
   ]
  },
  {
   "cell_type": "markdown",
   "id": "bc7a6d28",
   "metadata": {},
   "source": [
    "Finally, some tokens like 'yxr0ywnobwvudhmvoc8zl2iwzjnjmdaxnwewmtc1zgnjmtkwzmzlzmjlmgrlogrhyjk4nzczlnbuzw' may have been created as a result of Vectorization, and may appear only once. We also have some tokens which appear to be in Russian and Chinese. I will ignore them for now."
   ]
  },
  {
   "cell_type": "code",
   "execution_count": 72,
   "id": "be27d092",
   "metadata": {},
   "outputs": [
    {
     "data": {
      "text/plain": [
       "array(['In the diagram below, $BP$ bisects $\\\\angle ABC$, $CP$ bisects $\\\\angle BCA$, and $PQ$ is perpendicular to $BC$. If $BQ\\\\cdot QC=2PQ^2$, prove that $AB+AC=3BC$.\\n[img]https://services.artofproblemsolving.com/download.php?id=YXR0YWNobWVudHMvOC8zL2IwZjNjMDAxNWEwMTc1ZGNjMTkwZmZlZmJlMGRlOGRhYjk4NzczLnBuZw==&rn=VlRSTUMgMjAwNi5wbmc=[/img]'],\n",
       "      dtype=object)"
      ]
     },
     "execution_count": 72,
     "metadata": {},
     "output_type": "execute_result"
    }
   ],
   "source": [
    "sel_rows = np.where(\n",
    "    X_train[:, vect.vocabulary_.get(\"yxr0ywnobwvudhmvoc8zl2iwzjnjmdaxnwewmtc1zgnjmtkwzmzlzmjlmgrlogrhyjk4nzczlnbuzw\")].toarray().ravel()>0)\n",
    "text_train[sel_rows]"
   ]
  },
  {
   "cell_type": "markdown",
   "id": "f60b3288",
   "metadata": {},
   "source": [
    "# Baseline Model"
   ]
  },
  {
   "cell_type": "markdown",
   "id": "a5108369",
   "metadata": {},
   "source": [
    "## Logistic Regression"
   ]
  },
  {
   "cell_type": "code",
   "execution_count": null,
   "id": "b3a5b89e",
   "metadata": {},
   "outputs": [],
   "source": [
    "pipe = make_pipeline(CountVectorizer(),\n",
    "                     LogisticRegression())\n",
    "param_grid = {'logisticregression__C': [0.001, 0.01, 0.1, 1, 10, 100]}\n",
    "strat_cv = StratifiedKFold(n_splits=5, random_state=0)\n",
    "grid = GridSearchCV(pipe, param_grid=param_grid, cv=5)"
   ]
  }
 ],
 "metadata": {
  "kernelspec": {
   "display_name": "nlp-math-prob",
   "language": "python",
   "name": "python3"
  },
  "language_info": {
   "codemirror_mode": {
    "name": "ipython",
    "version": 3
   },
   "file_extension": ".py",
   "mimetype": "text/x-python",
   "name": "python",
   "nbconvert_exporter": "python",
   "pygments_lexer": "ipython3",
   "version": "3.12.10"
  }
 },
 "nbformat": 4,
 "nbformat_minor": 5
}
