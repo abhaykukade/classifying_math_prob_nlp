{
 "cells": [
  {
   "cell_type": "code",
   "execution_count": 14,
   "metadata": {},
   "outputs": [],
   "source": [
    "import spacy\n",
    "# Load English tokenizer, tagger, parser and NER\n",
    "nlp = spacy.load(\"en_core_web_sm\")"
   ]
  },
  {
   "cell_type": "code",
   "execution_count": 2,
   "metadata": {},
   "outputs": [
    {
     "data": {
      "text/html": [
       "<div>\n",
       "<style scoped>\n",
       "    .dataframe tbody tr th:only-of-type {\n",
       "        vertical-align: middle;\n",
       "    }\n",
       "\n",
       "    .dataframe tbody tr th {\n",
       "        vertical-align: top;\n",
       "    }\n",
       "\n",
       "    .dataframe thead th {\n",
       "        text-align: right;\n",
       "    }\n",
       "</style>\n",
       "<table border=\"1\" class=\"dataframe\">\n",
       "  <thead>\n",
       "    <tr style=\"text-align: right;\">\n",
       "      <th></th>\n",
       "      <th>Question</th>\n",
       "      <th>label</th>\n",
       "    </tr>\n",
       "  </thead>\n",
       "  <tbody>\n",
       "    <tr>\n",
       "      <th>0</th>\n",
       "      <td>A solitaire game is played as follows.  Six di...</td>\n",
       "      <td>3</td>\n",
       "    </tr>\n",
       "    <tr>\n",
       "      <th>1</th>\n",
       "      <td>2. The school table tennis championship was he...</td>\n",
       "      <td>5</td>\n",
       "    </tr>\n",
       "    <tr>\n",
       "      <th>2</th>\n",
       "      <td>Given that $x, y,$ and $z$ are real numbers th...</td>\n",
       "      <td>0</td>\n",
       "    </tr>\n",
       "    <tr>\n",
       "      <th>3</th>\n",
       "      <td>$25 \\cdot 22$ Given three distinct points $P\\l...</td>\n",
       "      <td>1</td>\n",
       "    </tr>\n",
       "    <tr>\n",
       "      <th>4</th>\n",
       "      <td>I am thinking of a five-digit number composed ...</td>\n",
       "      <td>5</td>\n",
       "    </tr>\n",
       "  </tbody>\n",
       "</table>\n",
       "</div>"
      ],
      "text/plain": [
       "                                            Question  label\n",
       "0  A solitaire game is played as follows.  Six di...      3\n",
       "1  2. The school table tennis championship was he...      5\n",
       "2  Given that $x, y,$ and $z$ are real numbers th...      0\n",
       "3  $25 \\cdot 22$ Given three distinct points $P\\l...      1\n",
       "4  I am thinking of a five-digit number composed ...      5"
      ]
     },
     "execution_count": 2,
     "metadata": {},
     "output_type": "execute_result"
    }
   ],
   "source": [
    "import pandas as pd\n",
    "\n",
    "training_data = pd.read_csv('data/train.csv')\n",
    "training_data.head()"
   ]
  },
  {
   "cell_type": "code",
   "execution_count": 126,
   "metadata": {},
   "outputs": [],
   "source": [
    "training_data['Qlen'] = training_data['Question'].map(lambda x: len(x))\n",
    "# training_data['Qlen'] = training_data['Qlen']\n",
    "training_data = training_data[training_data['Qlen'].between(100, 105)][['Question', 'label', 'Qlen']]\n",
    "training_data['rank'] = (training_data.groupby(['label'])['Qlen'].rank(method='first'))"
   ]
  },
  {
   "cell_type": "code",
   "execution_count": 128,
   "metadata": {},
   "outputs": [
    {
     "data": {
      "text/plain": [
       "array([0, 1, 2, 3, 4, 5, 6, 7])"
      ]
     },
     "execution_count": 128,
     "metadata": {},
     "output_type": "execute_result"
    }
   ],
   "source": [
    "import numpy as np\n",
    "sample = training_data[training_data['rank'] <= 3]\n",
    "np.unique(sample['label'])"
   ]
  },
  {
   "cell_type": "code",
   "execution_count": 129,
   "metadata": {},
   "outputs": [],
   "source": [
    "sample.to_csv('data/examples.csv')"
   ]
  },
  {
   "cell_type": "code",
   "execution_count": 35,
   "metadata": {},
   "outputs": [
    {
     "data": {
      "text/plain": [
       "7068"
      ]
     },
     "execution_count": 35,
     "metadata": {},
     "output_type": "execute_result"
    }
   ],
   "source": [
    "condn = training_data[training_data['Question'].str.contains(r'\\\\')].shape[0]\n",
    "condn"
   ]
  },
  {
   "cell_type": "code",
   "execution_count": 37,
   "metadata": {},
   "outputs": [
    {
     "data": {
      "text/plain": [
       "'$25 \\\\cdot 22$ Given three distinct points $P\\\\left(x_{1}, y_{1}\\\\right), Q\\\\left(x_{2}, y_{2}\\\\right)$, and $R\\\\left(x_{1}+x_{2}\\\\right.$, $y_{1}+y_{2}$ ), now connect these three points with the origin to form line segments, then the figure $O P R Q$, determined by the positions of points $P, Q$, and $R$, can be one of the following three possible situations:\\n(1) Parallelogram. (2) Line. (3) Trapezoid. The possible situations are:\\n(A) Only (1).\\n(B) Only (2).\\n(C) Only (3).\\n(D) Only (1) or (2).\\n(E) None of the three situations mentioned exist.\\n(15th American High School Mathematics Examination, 1964)'"
      ]
     },
     "execution_count": 37,
     "metadata": {},
     "output_type": "execute_result"
    }
   ],
   "source": [
    "text = training_data['Question'][3]\n",
    "text"
   ]
  },
  {
   "cell_type": "code",
   "execution_count": 39,
   "metadata": {},
   "outputs": [
    {
     "data": {
      "text/plain": [
       "'$25 cdot 22$ Given three distinct points $Pleft(x_{1}, y_{1}right), Qleft(x_{2}, y_{2}right)$, and $Rleft(x_{1}+x_{2}right.$, $y_{1}+y_{2}$ ), now connect these three points with the origin to form line segments, then the figure $O P R Q$, determined by the positions of points $P, Q$, and $R$, can be one of the following three possible situations:\\n(1) Parallelogram. (2) Line. (3) Trapezoid. The possible situations are:\\n(A) Only (1).\\n(B) Only (2).\\n(C) Only (3).\\n(D) Only (1) or (2).\\n(E) None of the three situations mentioned exist.\\n(15th American High School Mathematics Examination, 1964)'"
      ]
     },
     "execution_count": 39,
     "metadata": {},
     "output_type": "execute_result"
    }
   ],
   "source": [
    "text = text.replace('\\\\', '')\n",
    "text"
   ]
  },
  {
   "cell_type": "code",
   "execution_count": 43,
   "metadata": {},
   "outputs": [],
   "source": [
    "# Process whole documents\n",
    "doc = nlp(text)"
   ]
  },
  {
   "cell_type": "code",
   "execution_count": 41,
   "metadata": {},
   "outputs": [
    {
     "name": "stdout",
     "output_type": "stream",
     "text": [
      "$25 cdot 22$ Given three distinct points $Pleft(x_{1}, y_{1}right), Qleft(x_{2}, y_{2}right)$, and $Rleft(x_{1}+x_{2}right.$, $y_{1}+y_{2}$ ), now connect these three points with the origin to form line segments, then the figure $O P R Q$, determined by the positions of points $P, Q$, and $R$, can be one of the following three possible situations:\n",
      "(1) Parallelogram. (2) Line. (3) Trapezoid. The possible situations are:\n",
      "(A) Only (1).\n",
      "(B) Only (2).\n",
      "(C) Only (3).\n",
      "(D) Only (1) or (2).\n",
      "(E) None of the three situations mentioned exist.\n",
      "(15th American High School Mathematics Examination, 1964)\n",
      "\n",
      "Noun phrases: ['$25 cdot', 'three distinct points', 'Qleft(x_{2', 'y_{2}right)$', '$Rleft(x_{1}+x_{2}right.$', '$y_{1}+y_{2}$', 'these three points', 'the origin', 'line segments', 'the figure', 'the positions', 'points', '$P', 'the following three possible situations', '1) Parallelogram', '(2) Line', '(3) Trapezoid', 'The possible situations', ':\\n(A', 'Only (1).\\n(B', '(C', 'Only (3).\\n(D', 'None', 'the three situations', '(15th American High School Mathematics Examination']\n",
      "\n",
      "Verbs: ['give', 'connect', 'form', 'determine', 'follow', 'mention', 'exist']\n",
      "\n",
      "Entities:\n",
      "25 MONEY\n",
      "22$ MONEY\n",
      "three CARDINAL\n",
      "Rleft(x_{1}+x_{2}right.$ MONEY\n",
      "three CARDINAL\n",
      "three CARDINAL\n",
      "1 CARDINAL\n",
      "3 CARDINAL\n",
      "Trapezoid ORG\n",
      "1 CARDINAL\n",
      "2 CARDINAL\n",
      "3 CARDINAL\n",
      "1 CARDINAL\n",
      "2 CARDINAL\n",
      "three CARDINAL\n",
      "15th ORDINAL\n",
      "American High School Mathematics Examination ORG\n",
      "1964 DATE\n"
     ]
    }
   ],
   "source": [
    "print(text)\n",
    "# Analyze syntax\n",
    "print(\"\\nNoun phrases:\", [chunk.text for chunk in doc.noun_chunks])\n",
    "print(\"\\nVerbs:\", [token.lemma_ for token in doc if token.pos_ == \"VERB\"])\n",
    "\n",
    "# Find named entities, phrases and concepts\n",
    "print('\\nEntities:')\n",
    "for entity in doc.ents:\n",
    "    print(entity.text, entity.label_)"
   ]
  },
  {
   "cell_type": "code",
   "execution_count": 1,
   "metadata": {},
   "outputs": [
    {
     "name": "stdout",
     "output_type": "stream",
     "text": [
      "CUDA available: True\n"
     ]
    }
   ],
   "source": [
    "import torch\n",
    "print(f'CUDA available:', torch.cuda.is_available())"
   ]
  },
  {
   "cell_type": "code",
   "execution_count": 1,
   "metadata": {},
   "outputs": [
    {
     "data": {
      "text/plain": [
       "True"
      ]
     },
     "execution_count": 1,
     "metadata": {},
     "output_type": "execute_result"
    }
   ],
   "source": [
    "import spacy\n",
    "spacy.require_gpu()"
   ]
  },
  {
   "cell_type": "code",
   "execution_count": null,
   "metadata": {},
   "outputs": [],
   "source": []
  }
 ],
 "metadata": {
  "language_info": {
   "name": "python"
  }
 },
 "nbformat": 4,
 "nbformat_minor": 2
}
